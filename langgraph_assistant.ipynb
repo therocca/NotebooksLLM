{
 "cells": [
  {
   "cell_type": "code",
   "execution_count": null,
   "metadata": {},
   "outputs": [],
   "source": [
    "import os\n",
    "import random\n",
    "import string\n",
    "import subprocess\n",
    "from typing import List, Annotated\n",
    "from typing_extensions import TypedDict\n",
    "\n",
    "from langchain_openai import ChatOpenAI\n",
    "from langchain_core.tools import tool\n",
    "from langchain_core.messages import AIMessage\n",
    "from langgraph.prebuilt import ToolNode\n",
    "from langgraph.graph import StateGraph, MessagesState, START, END"
   ]
  },
  {
   "cell_type": "markdown",
   "metadata": {},
   "source": [
    "The following code shows an example of building a custom LLM-based assistant. The LLM is a 8B 6-bit-quantized Llama 3 (https://huggingface.co/meta-llama/Llama-3.1-8B-Instruct), deployed on local LangCPP server. The main goal is to achieve complex behaviors by just using a local LLM, which can fit inside a notebook GPU (at most 8 GB memory)."
   ]
  },
  {
   "cell_type": "code",
   "execution_count": null,
   "metadata": {},
   "outputs": [
    {
     "name": "stdout",
     "output_type": "stream",
     "text": [
      "The capital of France is Paris.\n"
     ]
    }
   ],
   "source": [
    "llm = ChatOpenAI(\n",
    "    base_url=\"http://localhost:8000/v1\",\n",
    "    api_key=\"sk-fake-key\",  # Not needed but required for OpenAI compatibility,\n",
    "    temperature=0.\n",
    ")\n",
    "\n",
    "response = llm.invoke(\"What is the capital of france?\")\n",
    "print(response.content)"
   ]
  },
  {
   "cell_type": "markdown",
   "metadata": {},
   "source": [
    "# Langgraph agent"
   ]
  },
  {
   "cell_type": "markdown",
   "metadata": {},
   "source": [
    "Let's use a custom LangGraph agent for the assistant. Our selected task for the bot is a filesystem assistant, where the AI can observe some local files and folder and decide to write some contents (attention: not safe for the systen, just for demonstration purpose). Let's implement some tools for the task, and check some basic queries:"
   ]
  },
  {
   "cell_type": "code",
   "execution_count": null,
   "metadata": {},
   "outputs": [],
   "source": [
    "\n",
    "WS_PATH = \"workspace\"\n",
    "\n",
    "@tool\n",
    "def list_directory(path: str) -> List[str]:\n",
    "    \"\"\"List the child nodes inside a directory.\"\"\"\n",
    "    try:\n",
    "        if path[0] == '/':\n",
    "            path = path[1:]\n",
    "        return os.listdir(os.path.join(WS_PATH, path))\n",
    "    except Exception as e:\n",
    "        return [f\"Error: {str(e)}, {os.path.join(WS_PATH, path)}\"]\n",
    "\n",
    "@tool\n",
    "def read_file(path: str) -> str:\n",
    "    \"\"\"Read the content of a file.\"\"\"\n",
    "    if path[0] == '/':\n",
    "        path = path[1:]\n",
    "    filepath = os.path.join(WS_PATH, path)\n",
    "    if not os.path.exists(filepath):\n",
    "        return \"Error: File does not exist\"\n",
    "    try:\n",
    "        with open(filepath, \"r\", encoding=\"utf-8\") as file:\n",
    "            return file.read()\n",
    "    except Exception as e:\n",
    "        return f\"Error: {str(e)}, {os.path.join(WS_PATH, path)}\"\n",
    "\n",
    "@tool\n",
    "def write_file(path: str, content: str) -> str:\n",
    "    \"\"\"Write some new content into a file.\"\"\"\n",
    "    if path[0] == '/':\n",
    "        path = path[1:]\n",
    "    filepath = os.path.join(WS_PATH, path)\n",
    "    try:\n",
    "        print(f\"Writing to {filepath}\")\n",
    "        # with open(filepath, \"w\", encoding=\"utf-8\") as file:\n",
    "        #     file.write(content)\n",
    "        return \"Success: File updated.\"\n",
    "    except Exception as e:\n",
    "        return f\"Error: {str(e)}, {os.path.join(WS_PATH, path)}\"\n",
    "\n",
    "@tool\n",
    "def execute_main(path: str) -> str:\n",
    "    \"\"\"Executes a Python file.\"\"\"\n",
    "    if path[0] == '/':\n",
    "        path = path[1:]\n",
    "    filepath = os.path.join(WS_PATH, path)\n",
    "    if not os.path.exists(filepath):\n",
    "        return \"Error: File does not exist.\"\n",
    "    try:\n",
    "        result = subprocess.run([\"python\", filepath], capture_output=True, text=True)\n",
    "        return result.stdout if result.returncode == 0 else result.stderr\n",
    "    except Exception as e:\n",
    "        return f\"Error: {str(e)}, {os.path.join(WS_PATH, path)}\"\n",
    "\n",
    "tools = [list_directory, read_file, write_file, execute_main]\n",
    "tool_node = ToolNode(tools)\n",
    "\n",
    "llm_with_tools = llm.bind_tools(tools)"
   ]
  },
  {
   "cell_type": "code",
   "execution_count": 3,
   "metadata": {},
   "outputs": [
    {
     "name": "stderr",
     "output_type": "stream",
     "text": [
      "C:\\Users\\rocca\\AppData\\Local\\Temp\\ipykernel_12444\\2723539149.py:1: LangChainDeprecationWarning: The method `BaseTool.__call__` was deprecated in langchain-core 0.1.47 and will be removed in 1.0. Use :meth:`~invoke` instead.\n",
      "  read_file('dummy.txt')\n"
     ]
    },
    {
     "data": {
      "text/plain": [
       "'Auisa&8sva72'"
      ]
     },
     "execution_count": 3,
     "metadata": {},
     "output_type": "execute_result"
    }
   ],
   "source": [
    "read_file('dummy.txt')"
   ]
  },
  {
   "cell_type": "code",
   "execution_count": 4,
   "metadata": {},
   "outputs": [
    {
     "data": {
      "text/plain": [
       "{'messages': [ToolMessage(content='Auisa&8sva72', name='read_file', tool_call_id='2')]}"
      ]
     },
     "execution_count": 4,
     "metadata": {},
     "output_type": "execute_result"
    }
   ],
   "source": [
    "message_with_single_tool_call = AIMessage(\n",
    "    content=\"\",\n",
    "    tool_calls=[\n",
    "        {\n",
    "            \"name\": \"read_file\",\n",
    "            \"args\": {\"path\": \"dummy.txt\"},\n",
    "            \"id\": \"2\",\n",
    "            \"type\": \"tool_call\",\n",
    "        }\n",
    "    ],\n",
    ")\n",
    "\n",
    "tool_node.invoke({\"messages\": [message_with_single_tool_call]})"
   ]
  },
  {
   "cell_type": "code",
   "execution_count": 5,
   "metadata": {},
   "outputs": [],
   "source": [
    "llm_with_tools = llm.bind_tools(tools)"
   ]
  },
  {
   "cell_type": "code",
   "execution_count": 6,
   "metadata": {},
   "outputs": [
    {
     "data": {
      "text/plain": [
       "[{'name': 'read_file',\n",
       "  'args': {'path': 'dummy.txt'},\n",
       "  'id': '',\n",
       "  'type': 'tool_call'}]"
      ]
     },
     "execution_count": 6,
     "metadata": {},
     "output_type": "execute_result"
    }
   ],
   "source": [
    "llm_with_tools.invoke(\"Read the content of the file 'dummy.txt'\").tool_calls"
   ]
  },
  {
   "cell_type": "markdown",
   "metadata": {},
   "source": [
    "Our goal is to be able to submit complex requests to the assistant, which could require some structured reasoning and tool usages. Therefore we will adopt a planner-based cognitive architecture for the bot:"
   ]
  },
  {
   "cell_type": "code",
   "execution_count": null,
   "metadata": {},
   "outputs": [],
   "source": [
    "def gen_rand_id(length):\n",
    "    letters = string.ascii_letters + string.digits\n",
    "    return ''.join(random.choice(letters) for _ in range(length))\n",
    "\n",
    "\n",
    "\n",
    "def route_tools(state: MessagesState):\n",
    "    messages = state[\"messages\"]\n",
    "    last_message = messages[-1]\n",
    "\n",
    "    if hasattr(last_message, \"tool_calls\") and len(last_message.tool_calls) > 0:\n",
    "        return \"tools\"\n",
    "    return END\n",
    "\n",
    "\n",
    "def call_tool(state: MessagesState):\n",
    "    messages = state[\"messages\"]\n",
    "    response = llm_with_tools.invoke(messages)\n",
    "    for tool_call in response.tool_calls:\n",
    "        tool_call['id'] = gen_rand_id(16)\n",
    "    return {\"messages\": [response]}\n",
    "\n",
    "\n",
    "workflow = StateGraph(MessagesState)\n",
    "\n",
    "workflow.add_node(\"llm\", call_tool)\n",
    "workflow.add_node(\"tools\", tool_node)\n",
    "\n",
    "workflow.add_edge(START, \"llm\")\n",
    "workflow.add_conditional_edges(\"llm\", route_tools, [\"tools\", END])\n",
    "workflow.add_edge(\"tools\", \"llm\")\n",
    "\n",
    "app = workflow.compile()"
   ]
  },
  {
   "cell_type": "code",
   "execution_count": 8,
   "metadata": {},
   "outputs": [
    {
     "data": {
      "image/png": "[encoded data removed]",
      "text/plain": [
       "<IPython.core.display.Image object>"
      ]
     },
     "metadata": {},
     "output_type": "display_data"
    }
   ],
   "source": [
    "from IPython.display import Image, display\n",
    "try:\n",
    "    display(Image(app.get_graph().draw_mermaid_png()))\n",
    "except Exception:\n",
    "    # This requires some extra dependencies and is optional\n",
    "    pass"
   ]
  },
  {
   "cell_type": "markdown",
   "metadata": {},
   "source": [
    "Let's check the behavior for more complex queries:"
   ]
  },
  {
   "cell_type": "code",
   "execution_count": null,
   "metadata": {},
   "outputs": [
    {
     "name": "stdout",
     "output_type": "stream",
     "text": [
      "================================\u001b[1m Human Message \u001b[0m=================================\n",
      "\n",
      "What is the content of the file at '/dummy.txt'?\n",
      "==================================\u001b[1m Ai Message \u001b[0m==================================\n",
      "Tool Calls:\n",
      "  read_file (F0buA8pkQ24A2pHP)\n",
      " Call ID: F0buA8pkQ24A2pHP\n",
      "  Args:\n",
      "    path: /dummy.txt\n",
      "=================================\u001b[1m Tool Message \u001b[0m=================================\n",
      "Name: read_file\n",
      "\n",
      "Auisa&8sva72\n",
      "==================================\u001b[1m Ai Message \u001b[0m==================================\n",
      "\n",
      "The content of the file at '/dummy.txt' is 'Auisa&8sva72'.\n"
     ]
    }
   ],
   "source": [
    "for chunk in app.stream(\n",
    "    {\"messages\": [(\"system\", \"Use your tools to answer the user query.\"),\n",
    "                  (\"human\", \"What is the content of the file at '/dummy.txt'?\")]}, stream_mode=\"values\"\n",
    "):\n",
    "    chunk[\"messages\"][-1].pretty_print()"
   ]
  },
  {
   "cell_type": "code",
   "execution_count": null,
   "metadata": {},
   "outputs": [
    {
     "name": "stdout",
     "output_type": "stream",
     "text": [
      "================================\u001b[1m Human Message \u001b[0m=================================\n",
      "\n",
      "What is the content of the directory at '/subdir'?\n",
      "==================================\u001b[1m Ai Message \u001b[0m==================================\n",
      "Tool Calls:\n",
      "  list_directory (tUqK8681AnembJuo)\n",
      " Call ID: tUqK8681AnembJuo\n",
      "  Args:\n",
      "    path: /subdir\n",
      "=================================\u001b[1m Tool Message \u001b[0m=================================\n",
      "Name: list_directory\n",
      "\n",
      "[\"dummy2.txt\", \"dummy3.txt\", \"subdir2\"]\n",
      "==================================\u001b[1m Ai Message \u001b[0m==================================\n",
      "\n",
      "The directory at '/subdir' contains the following items: \n",
      "1. dummy2.txt\n",
      "2. dummy3.txt\n",
      "3. subdir2\n"
     ]
    }
   ],
   "source": [
    "for chunk in app.stream(\n",
    "    {\"messages\": [(\"system\", \"Use your tools to answer the user query.\"),\n",
    "                  (\"human\", \"What is the content of the directory at '/subdir'?\")]}, stream_mode=\"values\"\n",
    "):\n",
    "    chunk[\"messages\"][-1].pretty_print()"
   ]
  },
  {
   "cell_type": "code",
   "execution_count": null,
   "metadata": {},
   "outputs": [
    {
     "name": "stdout",
     "output_type": "stream",
     "text": [
      "================================\u001b[1m Human Message \u001b[0m=================================\n",
      "\n",
      "What is the content of one random file inside the directory at '/subdir'?\n",
      "==================================\u001b[1m Ai Message \u001b[0m==================================\n",
      "Tool Calls:\n",
      "  list_directory (iiDBJWP37YWAur8P)\n",
      " Call ID: iiDBJWP37YWAur8P\n",
      "  Args:\n",
      "    path: /subdir\n",
      "=================================\u001b[1m Tool Message \u001b[0m=================================\n",
      "Name: list_directory\n",
      "\n",
      "[\"dummy2.txt\", \"dummy3.txt\", \"subdir2\"]\n",
      "==================================\u001b[1m Ai Message \u001b[0m==================================\n",
      "Tool Calls:\n",
      "  read_file (W356ZJtuNbRytNbY)\n",
      " Call ID: W356ZJtuNbRytNbY\n",
      "  Args:\n",
      "    path: /subdir/dummy2.txt\n",
      "=================================\u001b[1m Tool Message \u001b[0m=================================\n",
      "Name: read_file\n",
      "\n",
      "AAABDISFGGD\n",
      "==================================\u001b[1m Ai Message \u001b[0m==================================\n",
      "\n",
      "The content of the file 'dummy2.txt' inside the directory '/subdir' is 'AAABDISFGGD'.\n"
     ]
    }
   ],
   "source": [
    "for chunk in app.stream(\n",
    "    {\"messages\": [(\"system\", \"Use your tools to answer the user query.\"),\n",
    "                  (\"human\", \"What is the content of one random file inside the directory at '/subdir'?\")]}, stream_mode=\"values\"\n",
    "):\n",
    "    chunk[\"messages\"][-1].pretty_print()"
   ]
  },
  {
   "cell_type": "code",
   "execution_count": 12,
   "metadata": {},
   "outputs": [
    {
     "name": "stdout",
     "output_type": "stream",
     "text": [
      "================================\u001b[1m Human Message \u001b[0m=================================\n",
      "\n",
      "Write the content of 'dummy.txt' inside the file at 'subdir/dummy2.txt'. What was the written value?\n",
      "==================================\u001b[1m Ai Message \u001b[0m==================================\n",
      "Tool Calls:\n",
      "  read_file (t8mk5EpxQSrcnXxl)\n",
      " Call ID: t8mk5EpxQSrcnXxl\n",
      "  Args:\n",
      "    path: dummy.txt\n",
      "=================================\u001b[1m Tool Message \u001b[0m=================================\n",
      "Name: read_file\n",
      "\n",
      "Auisa&8sva72\n",
      "==================================\u001b[1m Ai Message \u001b[0m==================================\n",
      "Tool Calls:\n",
      "  write_file (YI6Up3mRPjMXY8w1)\n",
      " Call ID: YI6Up3mRPjMXY8w1\n",
      "  Args:\n",
      "    path: subdir/dummy2.txt\n",
      "    content: Auisa&8sva72\n",
      "Writing to workspace\\subdir/dummy2.txt\n",
      "=================================\u001b[1m Tool Message \u001b[0m=================================\n",
      "Name: write_file\n",
      "\n",
      "Success: File updated.\n",
      "==================================\u001b[1m Ai Message \u001b[0m==================================\n",
      "\n",
      "The content of 'dummy.txt' has been successfully written into 'subdir/dummy2.txt'. The written value is 'Auisa&8sva72'.\n"
     ]
    }
   ],
   "source": [
    "for chunk in app.stream(\n",
    "    {\"messages\": [(\"system\", \"Use your tools to answer the user query.\"),\n",
    "                  (\"human\", \"Write the content of 'dummy.txt' inside the file at 'subdir/dummy2.txt'. What was the written value?\")]}, stream_mode=\"values\"\n",
    "):\n",
    "    chunk[\"messages\"][-1].pretty_print()"
   ]
  },
  {
   "cell_type": "code",
   "execution_count": 14,
   "metadata": {},
   "outputs": [
    {
     "name": "stdout",
     "output_type": "stream",
     "text": [
      "================================\u001b[1m Human Message \u001b[0m=================================\n",
      "\n",
      "Write the content of 'dummy.txt' inside the file at 'subdir/dummy2.txt'. Then write the content of 'subdir/dummy3.txt' into 'dummy.txt'\n",
      "==================================\u001b[1m Ai Message \u001b[0m==================================\n",
      "Tool Calls:\n",
      "  read_file (N0O5kvZ2y4l4GJlP)\n",
      " Call ID: N0O5kvZ2y4l4GJlP\n",
      "  Args:\n",
      "    path: dummy.txt\n",
      "=================================\u001b[1m Tool Message \u001b[0m=================================\n",
      "Name: read_file\n",
      "\n",
      "Auisa&8sva72\n",
      "==================================\u001b[1m Ai Message \u001b[0m==================================\n",
      "Tool Calls:\n",
      "  write_file (Mdb37IF0Kuy954jU)\n",
      " Call ID: Mdb37IF0Kuy954jU\n",
      "  Args:\n",
      "    path: subdir/dummy2.txt\n",
      "    content: Auisa&8sva72\n",
      "Writing to workspace\\subdir/dummy2.txt\n",
      "=================================\u001b[1m Tool Message \u001b[0m=================================\n",
      "Name: write_file\n",
      "\n",
      "Success: File updated.\n",
      "==================================\u001b[1m Ai Message \u001b[0m==================================\n",
      "Tool Calls:\n",
      "  read_file (5sJY6Vs5gcM3oXpf)\n",
      " Call ID: 5sJY6Vs5gcM3oXpf\n",
      "  Args:\n",
      "    path: subdir/dummy3.txt\n",
      "=================================\u001b[1m Tool Message \u001b[0m=================================\n",
      "Name: read_file\n",
      "\n",
      "content3\n",
      "==================================\u001b[1m Ai Message \u001b[0m==================================\n",
      "Tool Calls:\n",
      "  write_file (G3cpJY6h4o456Wxr)\n",
      " Call ID: G3cpJY6h4o456Wxr\n",
      "  Args:\n",
      "    path: dummy.txt\n",
      "    content: content3\n",
      "Writing to workspace\\dummy.txt\n",
      "=================================\u001b[1m Tool Message \u001b[0m=================================\n",
      "Name: write_file\n",
      "\n",
      "Success: File updated.\n",
      "==================================\u001b[1m Ai Message \u001b[0m==================================\n",
      "\n",
      "The content of 'dummy.txt' has been updated to 'content3' and 'subdir/dummy2.txt' has been updated to 'Auisa&8sva72'.\n"
     ]
    }
   ],
   "source": [
    "for chunk in app.stream(\n",
    "    {\"messages\": [(\"system\", \"Use your tools to answer the user query.\"),\n",
    "                  (\"human\", \"Write the content of 'dummy.txt' inside the file at 'subdir/dummy2.txt'. Then write the content of 'subdir/dummy3.txt' into 'dummy.txt'\")]}, stream_mode=\"values\"\n",
    "):\n",
    "    chunk[\"messages\"][-1].pretty_print()"
   ]
  },
  {
   "cell_type": "markdown",
   "metadata": {},
   "source": [
    "Please note that the presented architecture is just a baseline example for exploring the capabilities of the described architecture. In order to have a more reliable response for more complex queries, the cognitive system can be developed even more. A context-extended model can also be used to improve longer planning of the current agent, such as the Qwen2.5-7B-Instruct-1M-Q6_K model."
   ]
  }
 ],
 "metadata": {
  "kernelspec": {
   "display_name": "notebook1-py10",
   "language": "python",
   "name": "python3"
  },
  "language_info": {
   "codemirror_mode": {
    "name": "ipython",
    "version": 3
   },
   "file_extension": ".py",
   "mimetype": "text/x-python",
   "name": "python",
   "nbconvert_exporter": "python",
   "pygments_lexer": "ipython3",
   "version": "3.10.16"
  }
 },
 "nbformat": 4,
 "nbformat_minor": 2
}
